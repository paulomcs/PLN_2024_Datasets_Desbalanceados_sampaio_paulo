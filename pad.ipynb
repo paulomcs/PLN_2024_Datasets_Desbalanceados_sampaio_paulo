{
 "cells": [
  {
   "cell_type": "markdown",
   "metadata": {},
   "source": [
    "3. Processamento e análise dos dados:"
   ]
  },
  {
   "cell_type": "markdown",
   "metadata": {},
   "source": [
    "a) Liste os campos que compõem cada registro:"
   ]
  },
  {
   "cell_type": "code",
   "execution_count": null,
   "metadata": {},
   "outputs": [],
   "source": []
  },
  {
   "cell_type": "code",
   "execution_count": 2,
   "metadata": {},
   "outputs": [
    {
     "name": "stdout",
     "output_type": "stream",
     "text": [
      "Index(['North Korea fires ballistic missile; U.S., South Korea analyzing: South Korea military',\n",
      "       'SEOUL (Reuters) - North Korea fired one ballistic missile from Pyongsong, a city in South Pyongan Province, at around 1817 GMT over the sea between South Korea and Japan, South Korea s Joint Chiefs of Staff said on Wednesday.  South Korea and the United States are currently analyzing what type of missile North Korea was fired, the military said in a text. Minutes after the North fired the missile, South Korea s military conducted a missile-firing test in response to the provocation, the South Korean military added. (This story corrects launch time to 1817 GMT, not 0617 GMT)  ',\n",
      "       'worldnews', 'November 28, 2017 '],\n",
      "      dtype='object')\n"
     ]
    }
   ],
   "source": [
    "import pandas as pd\n",
    "\n",
    "# Carregue o dataset\n",
    "df = pd.read_csv('./Database/Mixed.csv')\n",
    "\n",
    "# Liste os campos que compõem cada registro\n",
    "print(df.columns)\n"
   ]
  }
 ],
 "metadata": {
  "kernelspec": {
   "display_name": "Python 3",
   "language": "python",
   "name": "python3"
  },
  "language_info": {
   "codemirror_mode": {
    "name": "ipython",
    "version": 3
   },
   "file_extension": ".py",
   "mimetype": "text/x-python",
   "name": "python",
   "nbconvert_exporter": "python",
   "pygments_lexer": "ipython3",
   "version": "3.12.6"
  }
 },
 "nbformat": 4,
 "nbformat_minor": 2
}

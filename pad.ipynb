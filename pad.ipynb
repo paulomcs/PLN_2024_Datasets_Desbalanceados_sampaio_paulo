{
 "cells": [
  {
   "cell_type": "markdown",
   "metadata": {},
   "source": [
    "3. Processamento e análise dos dados:"
   ]
  },
  {
   "cell_type": "markdown",
   "metadata": {},
   "source": [
    "a) Liste os campos que compõem cada registro:"
   ]
  },
  {
   "cell_type": "code",
   "execution_count": 1,
   "metadata": {},
   "outputs": [
    {
     "name": "stdout",
     "output_type": "stream",
     "text": [
      "Index(['title', 'text', 'subject', 'date'], dtype='object')\n"
     ]
    }
   ],
   "source": [
    "import pandas as pd\n",
    "\n",
    "# Carregue o dataset\n",
    "df = pd.read_csv('./Database/Mixed.csv')\n",
    "\n",
    "# Liste os campos que compõem cada registro\n",
    "print(df.columns)\n"
   ]
  },
  {
   "cell_type": "markdown",
   "metadata": {},
   "source": [
    "b) Liste os labels das classes existentes:"
   ]
  },
  {
   "cell_type": "code",
   "execution_count": 4,
   "metadata": {},
   "outputs": [
    {
     "name": "stdout",
     "output_type": "stream",
     "text": [
      "Labels das classes existentes (subjects):\n",
      "['politics' 'left-news' 'News' 'politicsNews' 'worldnews' 'US_News'\n",
      " 'Government News' 'Middle-east']\n"
     ]
    }
   ],
   "source": [
    "import pandas as pd\n",
    "\n",
    "# Carregue o dataset\n",
    "df = pd.read_csv('./Database/Mixed.csv')\n",
    "\n",
    "# Liste os labels únicos na coluna 'subject'\n",
    "unique_subjects = df['subject'].unique()\n",
    "\n",
    "# Exiba os subjects encontrados\n",
    "print(\"Labels das classes existentes (subjects):\")\n",
    "print(unique_subjects)"
   ]
  },
  {
   "cell_type": "markdown",
   "metadata": {},
   "source": [
    "c) Liste a quantidade de registros que não contenham label, que contenham um label, dois labels, até o máximo de labels existentes:"
   ]
  },
  {
   "cell_type": "code",
   "execution_count": 5,
   "metadata": {},
   "outputs": [
    {
     "name": "stdout",
     "output_type": "stream",
     "text": [
      "Quantidade de registros por número de labels:\n",
      "label_count\n",
      "1    21417\n",
      "Name: count, dtype: int64\n",
      "Quantidade de registros sem label: 0\n"
     ]
    }
   ],
   "source": [
    "df['label_count'] = df['subject'].apply(lambda x: len(x.split(',')) if pd.notnull(x) else 0)\n",
    "\n",
    "label_distribution = df['label_count'].value_counts().sort_index()\n",
    "\n",
    "print(\"Quantidade de registros por número de labels:\")\n",
    "print(label_distribution)\n",
    "\n",
    "no_label_count = (df['label_count'] == 0).sum()\n",
    "print(f'Quantidade de registros sem label: {no_label_count}')\n"
   ]
  },
  {
   "cell_type": "markdown",
   "metadata": {},
   "source": [
    "d) Liste a quantidade de registros associados a cada label/classe existente:"
   ]
  },
  {
   "cell_type": "code",
   "execution_count": 6,
   "metadata": {},
   "outputs": [
    {
     "name": "stdout",
     "output_type": "stream",
     "text": [
      "Quantidade de registros associados a cada label/classe existente:\n",
      "subject\n",
      "News               6332\n",
      "politics           4774\n",
      "left-news          3141\n",
      "politicsNews       2600\n",
      "worldnews          2381\n",
      "Government News    1112\n",
      "US_News             543\n",
      "Middle-east         534\n",
      "Name: count, dtype: int64\n"
     ]
    }
   ],
   "source": [
    "# Contar a quantidade de registros por classe na coluna 'subject'\n",
    "label_counts = df['subject'].value_counts()\n",
    "\n",
    "# Exiba a contagem de registros por label\n",
    "print(\"Quantidade de registros associados a cada label/classe existente:\")\n",
    "print(label_counts)\n"
   ]
  },
  {
   "cell_type": "markdown",
   "metadata": {},
   "source": [
    "e) Liste a quantidade de registros com labels/classes e sem labels/classes:"
   ]
  },
  {
   "cell_type": "code",
   "execution_count": 7,
   "metadata": {},
   "outputs": [
    {
     "name": "stdout",
     "output_type": "stream",
     "text": [
      "Quantidade de registros com labels: 21417\n",
      "Quantidade de registros sem labels: 0\n"
     ]
    }
   ],
   "source": [
    "# Registros com labels\n",
    "with_labels = df[df['subject'].notnull()].shape[0]\n",
    "\n",
    "# Registros sem labels\n",
    "without_labels = df[df['subject'].isnull()].shape[0]\n",
    "\n",
    "print(f'Quantidade de registros com labels: {with_labels}')\n",
    "print(f'Quantidade de registros sem labels: {without_labels}')\n"
   ]
  },
  {
   "cell_type": "markdown",
   "metadata": {},
   "source": [
    "4. Identifique quais labels/classes serão utilizados na atividade de classificação e aplique um filtro apropriado para uso destes registros:"
   ]
  },
  {
   "cell_type": "code",
   "execution_count": 8,
   "metadata": {},
   "outputs": [
    {
     "name": "stdout",
     "output_type": "stream",
     "text": [
      "Quantidade de registros filtrados para classificação: 4774\n"
     ]
    }
   ],
   "source": [
    "# Filtre os registros que você vai usar para classificação (exemplo: apenas registros com 'politics')\n",
    "filtered_df = df[df['subject'] == 'politics']\n",
    "\n",
    "# Exiba a quantidade de registros filtrados\n",
    "print(f'Quantidade de registros filtrados para classificação: {filtered_df.shape[0]}')\n"
   ]
  },
  {
   "cell_type": "markdown",
   "metadata": {},
   "source": [
    "5. Crie uma nova coluna no dataframe do Pandas que você está utilizando para indicar se o registro possui label ou não:"
   ]
  },
  {
   "cell_type": "code",
   "execution_count": 9,
   "metadata": {},
   "outputs": [
    {
     "name": "stdout",
     "output_type": "stream",
     "text": [
      "        subject  has_label\n",
      "0      politics          1\n",
      "1     left-news          1\n",
      "2          News          1\n",
      "3  politicsNews          1\n",
      "4     left-news          1\n"
     ]
    }
   ],
   "source": [
    "# Adiciona a coluna 'has_label'\n",
    "df['has_label'] = df['subject'].apply(lambda x: 1 if pd.notnull(x) else 0)\n",
    "\n",
    "# Exiba as primeiras linhas do dataframe para verificar a nova coluna\n",
    "print(df[['subject', 'has_label']].head())\n"
   ]
  },
  {
   "cell_type": "markdown",
   "metadata": {},
   "source": [
    "6. Caso dois ou mais campos contenham informação textual de interesse para a análise, avalie a possibilidade de concatená-los em um único campo:"
   ]
  },
  {
   "cell_type": "code",
   "execution_count": 10,
   "metadata": {},
   "outputs": [
    {
     "name": "stdout",
     "output_type": "stream",
     "text": [
      "                                               title  \\\n",
      "0  NO TOILET PAPER?! SOCIALISM IS IN ITS FINAL ST...   \n",
      "1  LIBERAL Lansing, MI Mayor Forced To REMOVE “Sa...   \n",
      "2   BOMBSHELL Report Just Dropped Showing Gorsuch...   \n",
      "3  U.S. spy agencies probe another flank in Russi...   \n",
      "4  (VIDEO) WOMAN BEATEN BY TWO TEENS AFTER ‘SHUSH...   \n",
      "\n",
      "                                                text  \\\n",
      "0  Socialism doesn t work but I guess Venezuela d...   \n",
      "1  Watch his appearance on Tucker Carlson where h...   \n",
      "2  Apparently, original ideas are a liability in ...   \n",
      "3  SAN FRANCISCO (Reuters) - Russian hacking of t...   \n",
      "4  Is everyone else thinking what I m thinking? T...   \n",
      "\n",
      "                                       combined_text  \n",
      "0  NO TOILET PAPER?! SOCIALISM IS IN ITS FINAL ST...  \n",
      "1  LIBERAL Lansing, MI Mayor Forced To REMOVE “Sa...  \n",
      "2   BOMBSHELL Report Just Dropped Showing Gorsuch...  \n",
      "3  U.S. spy agencies probe another flank in Russi...  \n",
      "4  (VIDEO) WOMAN BEATEN BY TWO TEENS AFTER ‘SHUSH...  \n"
     ]
    }
   ],
   "source": [
    "# Concatenar 'title' e 'text' em um novo campo\n",
    "df['combined_text'] = df['title'] + \" \" + df['text']\n",
    "\n",
    "# Exiba as primeiras linhas para verificar a nova coluna\n",
    "print(df[['title', 'text', 'combined_text']].head())\n"
   ]
  },
  {
   "cell_type": "markdown",
   "metadata": {},
   "source": [
    "7. Identifique possíveis registros duplicados e remova-os:"
   ]
  },
  {
   "cell_type": "code",
   "execution_count": 11,
   "metadata": {},
   "outputs": [
    {
     "name": "stdout",
     "output_type": "stream",
     "text": [
      "Número de registros duplicados encontrados: 13\n",
      "Número total de registros após remoção de duplicados: 21404\n"
     ]
    }
   ],
   "source": [
    "\n",
    "duplicates = df.duplicated().sum()\n",
    "print(f'Número de registros duplicados encontrados: {duplicates}')\n",
    "\n",
    "df.drop_duplicates(inplace=True)\n",
    "print(f'Número total de registros após remoção de duplicados: {df.shape[0]}')\n"
   ]
  },
  {
   "cell_type": "markdown",
   "metadata": {},
   "source": [
    "8. Apresente um gráfico para mostrar a distribuição de quantidade de palavras por registro:"
   ]
  },
  {
   "cell_type": "code",
   "execution_count": 12,
   "metadata": {},
   "outputs": [
    {
     "data": {
      "image/png": "[encoded data removed]",
      "text/plain": [
       "<Figure size 640x480 with 1 Axes>"
      ]
     },
     "metadata": {},
     "output_type": "display_data"
    }
   ],
   "source": [
    "import matplotlib.pyplot as plt\n",
    "\n",
    "# Contar o número de palavras por registro (na coluna 'combined_text')\n",
    "df['word_count'] = df['combined_text'].apply(lambda x: len(str(x).split()))\n",
    "\n",
    "# Plotar a distribuição\n",
    "plt.hist(df['word_count'], bins=50, color='blue', alpha=0.7)\n",
    "plt.xlabel('Quantidade de palavras')\n",
    "plt.ylabel('Número de registros')\n",
    "plt.title('Distribuição de palavras por registro')\n",
    "plt.grid(axis='y')\n",
    "plt.show()"
   ]
  },
  {
   "cell_type": "markdown",
   "metadata": {},
   "source": [
    "9. Utilize a biblioteca Scikit-multilearn para criar os conjuntos de registros para treinamento, validação e teste:"
   ]
  },
  {
   "cell_type": "code",
   "execution_count": 16,
   "metadata": {},
   "outputs": [
    {
     "name": "stdout",
     "output_type": "stream",
     "text": [
      "Tamanho do conjunto de treino: 17124\n",
      "Tamanho do conjunto de teste: 4280\n"
     ]
    }
   ],
   "source": [
    "import pandas as pd\n",
    "from skmultilearn.model_selection import iterative_train_test_split\n",
    "from sklearn.preprocessing import MultiLabelBinarizer\n",
    "\n",
    "# Supondo que 'subject' contém múltiplas classes separadas por vírgula\n",
    "df['subject'] = df['subject'].fillna('')  # Certifique-se de que não haja NaNs\n",
    "df['subject'] = df['subject'].apply(lambda x: x.split(','))  # Divida as classes em listas\n",
    "\n",
    "# Prepare os dados\n",
    "X = df['combined_text'].values.reshape(-1, 1)  # Reshape para ser uma matriz 2D\n",
    "y = MultiLabelBinarizer().fit_transform(df['subject'])\n",
    "\n",
    "# Divisão do dataset (80% treino, 10% validação, 10% teste)\n",
    "X_train, y_train, X_test, y_test = iterative_train_test_split(X, y, test_size=0.2)\n",
    "\n",
    "# Verifique os tamanhos dos conjuntos\n",
    "print(f'Tamanho do conjunto de treino: {X_train.shape[0]}')\n",
    "print(f'Tamanho do conjunto de teste: {X_test.shape[0]}')"
   ]
  },
  {
   "cell_type": "markdown",
   "metadata": {},
   "source": [
    "10. Crie os training slices do seu dataset:"
   ]
  },
  {
   "cell_type": "code",
   "execution_count": 19,
   "metadata": {},
   "outputs": [
    {
     "name": "stdout",
     "output_type": "stream",
     "text": [
      "Tamanho do training slice: 12328\n",
      "Tamanho do validation slice: 1541\n",
      "Tamanho do conjunto de teste: 4280\n"
     ]
    }
   ],
   "source": [
    "import numpy as np\n",
    "\n",
    "# Defina os tamanhos dos slices (pode ser ajustado conforme necessário)\n",
    "train_size = 0.8\n",
    "validation_size = 0.1\n",
    "test_size = 0.1\n",
    "\n",
    "# Confirme que os tamanhos estão corretos\n",
    "assert np.isclose(train_size + validation_size + test_size, 1.0), \"Os tamanhos devem somar 1.\"\n",
    "\n",
    "# Gerar os índices dos slices para treinamento, validação e teste\n",
    "num_train = int(len(X_train) * train_size)\n",
    "num_val = int(len(X_train) * validation_size)\n",
    "\n",
    "# Criar slices\n",
    "X_train_slice = X_train[:num_train]\n",
    "y_train_slice = y_train[:num_train]\n",
    "\n",
    "X_val_slice = X_train[num_train:num_train + num_val]\n",
    "y_val_slice = y_train[num_train:num_train + num_val]\n",
    "\n",
    "# Usar o restante como teste (se necessário, já está definido em X_test e y_test)\n",
    "# Aqui você pode usar X_test e y_test conforme eles já foram separados no item anterior\n",
    "\n",
    "# Exibir tamanhos dos slices\n",
    "print(f\"Tamanho do training slice: {X_train_slice.shape[0]}\")\n",
    "print(f\"Tamanho do validation slice: {X_val_slice.shape[0]}\")\n",
    "print(f\"Tamanho do conjunto de teste: {X_test.shape[0]}\")\n"
   ]
  },
  {
   "cell_type": "markdown",
   "metadata": {},
   "source": [
    "11. Implemente o Naive Bayesline e apresente os gráficos para Micro e Macro F1 score:"
   ]
  },
  {
   "cell_type": "code",
   "execution_count": 21,
   "metadata": {},
   "outputs": [
    {
     "name": "stdout",
     "output_type": "stream",
     "text": [
      "Micro F1 Score: 0.6491\n",
      "Macro F1 Score: 0.5305\n"
     ]
    }
   ],
   "source": [
    "from sklearn.naive_bayes import MultinomialNB\n",
    "from sklearn.metrics import f1_score\n",
    "from sklearn.feature_extraction.text import CountVectorizer\n",
    "from sklearn.pipeline import make_pipeline\n",
    "from sklearn.multiclass import OneVsRestClassifier\n",
    "\n",
    "# 1. Criar um pipeline com CountVectorizer e OneVsRestClassifier com MultinomialNB\n",
    "model = make_pipeline(CountVectorizer(), OneVsRestClassifier(MultinomialNB()))\n",
    "\n",
    "# 2. Treinar o modelo com o conjunto de treinamento\n",
    "model.fit(X_train_slice.ravel(), y_train_slice)\n",
    "\n",
    "# 3. Fazer previsões no conjunto de validação\n",
    "y_val_pred = model.predict(X_val_slice.ravel())\n",
    "\n",
    "# 4. Calcular Micro e Macro F1 Score\n",
    "micro_f1 = f1_score(y_val_slice, y_val_pred, average='micro')\n",
    "macro_f1 = f1_score(y_val_slice, y_val_pred, average='macro')\n",
    "\n",
    "# 5. Exibir os resultados\n",
    "print(f'Micro F1 Score: {micro_f1:.4f}')\n",
    "print(f'Macro F1 Score: {macro_f1:.4f}')\n"
   ]
  },
  {
   "cell_type": "markdown",
   "metadata": {},
   "source": [
    "12. Uso do GPT-2 para Embeddings e Avaliação com FAISS"
   ]
  },
  {
   "cell_type": "code",
   "execution_count": 28,
   "metadata": {},
   "outputs": [
    {
     "name": "stdout",
     "output_type": "stream",
     "text": [
      "Shape dos embeddings de treino: (12328, 768)\n",
      "Shape dos embeddings de validação: (1541, 768)\n"
     ]
    }
   ],
   "source": [
    "import torch\n",
    "from transformers import GPT2Tokenizer, GPT2Model\n",
    "import numpy as np\n",
    "import faiss\n",
    "import os\n",
    "\n",
    "# tokenizer = GPT2Tokenizer.from_pretrained(\"gpt2\")\n",
    "# model = GPT2Model.from_pretrained(\"gpt2\")\n",
    "\n",
    "# tokenizer.pad_token = tokenizer.eos_token\n",
    "\n",
    "# model.eval()\n",
    "\n",
    "# def get_embeddings(texts, batch_size=16):\n",
    "#     embeddings = []\n",
    "#     for i in range(0, len(texts), batch_size):\n",
    "#         batch = texts[i:i + batch_size]\n",
    "#         inputs = tokenizer(batch, padding=True, truncation=True, return_tensors=\"pt\", max_length=512)\n",
    "#         with torch.no_grad():\n",
    "#             outputs = model(**inputs)\n",
    "#         embeddings.append(outputs.last_hidden_state.mean(dim=1).numpy())\n",
    "    \n",
    "#     return np.concatenate(embeddings)\n",
    "\n",
    "# if os.path.exists('X_train_embeddings.npy') and os.path.exists('X_val_embeddings.npy'):\n",
    "#     X_train_embeddings = np.load('X_train_embeddings.npy')\n",
    "#     X_val_embeddings = np.load('X_val_embeddings.npy')\n",
    "# else:\n",
    "#     X_train_slice_list = X_train_slice.ravel().tolist() \n",
    "#     X_val_slice_list = X_val_slice.ravel().tolist()     \n",
    "\n",
    "#     X_train_embeddings = get_embeddings(X_train_slice_list)\n",
    "#     X_val_embeddings = get_embeddings(X_val_slice_list)\n",
    "\n",
    "#     np.save('X_train_embeddings.npy', X_train_embeddings)\n",
    "#     np.save('X_val_embeddings.npy', X_val_embeddings)\n",
    "\n",
    "# print(f\"Shape dos embeddings de treino: {X_train_embeddings.shape}\")\n",
    "# print(f\"Shape dos embeddings de validação: {X_val_embeddings.shape}\")\n"
   ]
  },
  {
   "cell_type": "code",
   "execution_count": 3,
   "metadata": {},
   "outputs": [
    {
     "name": "stdout",
     "output_type": "stream",
     "text": [
      "Dimensão de X_train_embeddings: (12328, 768)\n",
      "Tipo de dados de X_train_embeddings: float32\n",
      "Dimensão de X_val_embeddings: (1541, 768)\n",
      "Tipo de dados de X_val_embeddings: float32\n",
      "Índice FAISS criado com 12328 entradas.\n",
      "Distâncias: [[3.1250000e-02 4.3437500e+00 4.6406250e+00 6.8125000e+00 7.4218750e+00]\n",
      " [0.0000000e+00 3.5476562e+01 3.5476562e+01 7.0960938e+01 7.5632812e+01]\n",
      " [9.0859375e+00 2.6070312e+01 3.3867188e+01 3.3867188e+01 5.8945312e+01]\n",
      " ...\n",
      " [1.8179688e+01 2.0531250e+01 2.2203125e+01 2.3890625e+01 2.4210938e+01]\n",
      " [2.4554688e+01 2.8070312e+01 2.8171875e+01 2.9117188e+01 2.9429688e+01]\n",
      " [2.9507812e+01 3.8929688e+01 3.9875000e+01 4.0359375e+01 4.1242188e+01]]\n",
      "Índices dos vizinhos mais próximos: [[11008  7807  4781  2562  2995]\n",
      " [ 1712  9389 11949  2045  1364]\n",
      " [ 2328  6022  4771  9280  1464]\n",
      " ...\n",
      " [ 6505  4127  4492  2845  7982]\n",
      " [ 6998 12105  3493  1512  6689]\n",
      " [ 2454  6193   615  8228  4969]]\n"
     ]
    }
   ],
   "source": [
    "import faiss\n",
    "import numpy as np\n",
    "\n",
    "# Carregar os embeddings previamente salvos\n",
    "X_train_embeddings = np.load('X_train_embeddings.npy')\n",
    "X_val_embeddings = np.load('X_val_embeddings.npy')\n",
    "\n",
    "# Verificar a forma dos embeddings de treinamento\n",
    "print(f\"Dimensão de X_train_embeddings: {X_train_embeddings.shape}\")\n",
    "print(f\"Tipo de dados de X_train_embeddings: {X_train_embeddings.dtype}\")\n",
    "\n",
    "# Verificar a forma dos embeddings de validação\n",
    "print(f\"Dimensão de X_val_embeddings: {X_val_embeddings.shape}\")\n",
    "print(f\"Tipo de dados de X_val_embeddings: {X_val_embeddings.dtype}\")\n",
    "\n",
    "# Garantir que os embeddings estão no formato correto (contíguos e float32)\n",
    "X_train_embeddings = np.ascontiguousarray(X_train_embeddings, dtype='float32')\n",
    "X_val_embeddings = np.ascontiguousarray(X_val_embeddings, dtype='float32')\n",
    "\n",
    "# Criar o índice FAISS com a distância L2 (euclidiana)\n",
    "dim = X_train_embeddings.shape[1]  # Dimensão dos embeddings\n",
    "index = faiss.IndexFlatL2(dim)\n",
    "\n",
    "# Adicionar os embeddings de treinamento ao índice\n",
    "index.add(X_train_embeddings)\n",
    "\n",
    "# Verificar se o índice foi criado com sucesso\n",
    "print(f\"Índice FAISS criado com {index.ntotal} entradas.\")\n",
    "\n",
    "# Realizar a busca nos embeddings de validação\n",
    "k = 5  # Número de vizinhos mais próximos\n",
    "distances, indices = index.search(X_val_embeddings, k)\n",
    "\n",
    "# Exibir os resultados da busca\n",
    "print(\"Distâncias:\", distances)\n",
    "print(\"Índices dos vizinhos mais próximos:\", indices)\n"
   ]
  }
 ],
 "metadata": {
  "kernelspec": {
   "display_name": "Python 3",
   "language": "python",
   "name": "python3"
  },
  "language_info": {
   "codemirror_mode": {
    "name": "ipython",
    "version": 3
   },
   "file_extension": ".py",
   "mimetype": "text/x-python",
   "name": "python",
   "nbconvert_exporter": "python",
   "pygments_lexer": "ipython3",
   "version": "3.12.6"
  }
 },
 "nbformat": 4,
 "nbformat_minor": 2
}
